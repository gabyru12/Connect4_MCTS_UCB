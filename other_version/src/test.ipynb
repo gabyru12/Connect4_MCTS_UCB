{
 "cells": [
  {
   "cell_type": "code",
   "execution_count": 3,
   "id": "70cc4c76",
   "metadata": {},
   "outputs": [
    {
     "data": {
      "text/plain": [
       "(0,\n",
       " Empty DataFrame\n",
       " Columns: [cell_0, cell_1, cell_2, cell_3, cell_4, cell_5, cell_6, cell_7, cell_8, cell_9, cell_10, cell_11, cell_12, cell_13, cell_14, cell_15, cell_16, cell_17, cell_18, cell_19, cell_20, cell_21, cell_22, cell_23, cell_24, cell_25, cell_26, cell_27, cell_28, cell_29, cell_30, cell_31, cell_32, cell_33, cell_34, cell_35, cell_36, cell_37, cell_38, cell_39, cell_40, cell_41, result]\n",
       " Index: []\n",
       " \n",
       " [0 rows x 43 columns])"
      ]
     },
     "execution_count": 3,
     "metadata": {},
     "output_type": "execute_result"
    }
   ],
   "source": [
    "import pandas as pd\n",
    "\n",
    "# Load the Excel file\n",
    "file_path = r\"C:\\Users\\arcan\\OneDrive\\Ambiente de Trabalho\\My apps\\python\\connect4Project\\connect4_dataset.xlsx\"\n",
    "df = pd.read_excel(file_path)\n",
    "\n",
    "# Check for duplicates excluding the 'result' column\n",
    "duplicate_rows = df[df.duplicated(subset=df.columns[:-1], keep=False)]\n",
    "\n",
    "# Count and display the number of duplicate rows and show a few examples\n",
    "duplicate_count = len(duplicate_rows)\n",
    "duplicate_rows_sample = duplicate_rows.head()\n",
    "\n",
    "duplicate_count, duplicate_rows_sample"
   ]
  }
 ],
 "metadata": {
  "kernelspec": {
   "display_name": "Python 3",
   "language": "python",
   "name": "python3"
  },
  "language_info": {
   "codemirror_mode": {
    "name": "ipython",
    "version": 3
   },
   "file_extension": ".py",
   "mimetype": "text/x-python",
   "name": "python",
   "nbconvert_exporter": "python",
   "pygments_lexer": "ipython3",
   "version": "3.12.0"
  }
 },
 "nbformat": 4,
 "nbformat_minor": 5
}
