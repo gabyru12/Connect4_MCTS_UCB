{
 "cells": [
  {
   "cell_type": "markdown",
   "id": "de990b0c",
   "metadata": {},
   "source": [
    "# Connect4 Data Generation Script\n",
    "This notebook generates datasets for Connect4 using Monte Carlo Tree Search (MCTS)."
   ]
  },
  {
   "cell_type": "markdown",
   "id": "21ab3b7e",
   "metadata": {},
   "source": [
    "## Import Required Libraries\n",
    "The following libraries are used for data generation, MCTS, and file handling."
   ]
  },
  {
   "cell_type": "code",
   "execution_count": 1,
   "id": "70cd33e5",
   "metadata": {},
   "outputs": [],
   "source": [
    "import random\n",
    "import pandas as pd\n",
    "from copy import deepcopy\n",
    "from mcts_ucb import MctsAlgo, Node\n",
    "from connect4API import Connect4\n",
    "import math\n",
    "import time\n",
    "import os"
   ]
  },
  {
   "cell_type": "markdown",
   "id": "959e2fbb",
   "metadata": {},
   "source": [
    "## Helper Functions\n",
    "These functions assist in creating and manipulating the Connect4 board, as well as generating valid game states."
   ]
  },
  {
   "cell_type": "code",
   "execution_count": 6,
   "id": "8e40b056",
   "metadata": {},
   "outputs": [],
   "source": [
    "def create_empty_board() -> list[list[str]]:\n",
    "    return [['-' for _ in range(COLS)] for _ in range(ROWS)]\n",
    "\n",
    "def make_random_move(board: list[list[str]], col: int, player: str) -> bool:\n",
    "    for row in reversed(range(ROWS)):\n",
    "        if board[row][col] == '-':\n",
    "            board[row][col] = player\n",
    "            return True\n",
    "    return False\n",
    "\n",
    "def generate_valid_board(num_moves: int) -> (list[list[str]], str):\n",
    "    board = create_empty_board()\n",
    "    current_player = 'O'\n",
    "    move_count = 0\n",
    "    while move_count < num_moves:\n",
    "        col = random.randint(0, COLS - 1)\n",
    "        if make_random_move(board, col, current_player):\n",
    "            move_count += 1\n",
    "            current_player = 'X' if current_player == 'O' else 'O'\n",
    "    return board, current_player\n",
    "\n",
    "def flatten_board(board: list[list[str]]) -> list[str]:\n",
    "    return [cell for row in board for cell in row]\n",
    "\n",
    "def display_progress_bar(progress: int, total: int, bar_length: int = 100):\n",
    "    completed = int(bar_length * progress / total) + 1\n",
    "    bar = '#' * completed + '-' * (bar_length - completed)\n",
    "    print(f\"\\r/{bar}/ {round(progress / total * 100, 1)}%\", end='', flush=False)\n",
    "\n",
    "def generate_dataset(createFor: list[str]) -> dict[str, list[list[str]]]:\n",
    "    datasets = {\"early\": [],\n",
    "                \"mid\": [],\n",
    "                \"late\": []}\n",
    "    mcts = MctsAlgo(C=C0, reset=resetTree0, drawValue=drawValue0, speed=\"fast\")\n",
    "    connect4 = Connect4(6, 7)\n",
    "    for gamestate, (min_moves, max_moves) in GAMESTATES.items():\n",
    "        if gamestate not in createFor:\n",
    "            continue\n",
    "        count = 0\n",
    "        while count < ITERATIONS_PER_GAMESTATE:\n",
    "            display_progress_bar(count, ITERATIONS_PER_GAMESTATE)\n",
    "            num_moves = random.randint(min_moves, max_moves)\n",
    "            board, turn = generate_valid_board(num_moves)\n",
    "            connect4.getIntoDesiredState(turn, gameState=board)\n",
    "\n",
    "            if connect4.checkGameOver(speed=\"slow\"):  # IGNORA estados terminados\n",
    "                continue\n",
    "\n",
    "            # MCTS para determinar resultado provável\n",
    "            mcts.run_mcts(iterations0, connect4)\n",
    "            bestMove = str(mcts.choose_best_move())\n",
    "\n",
    "            flat_board = flatten_board(board)\n",
    "            flat_board.append(bestMove)\n",
    "            datasets[gamestate].append(flat_board)\n",
    "            count += 1\n",
    "    return datasets\n",
    "\n",
    "def save_to_excel(datasets: dict[str, list[list[str]]]):\n",
    "    col_names = [f\"cell_{i}\" for i in range(42)] + [\"result\"]\n",
    "    for gamestate in datasets.keys():\n",
    "        if len(datasets[gamestate]) > 0:\n",
    "            df = pd.DataFrame(datasets[gamestate], columns=col_names)\n",
    "            filename = f\"connect4_{gamestate}.xlsx\"\n",
    "            df.to_excel(f'../datasets/{filename}', index=False)\n",
    "            print(f\"Dataset saved as {filename}\")"
   ]
  },
  {
   "cell_type": "markdown",
   "id": "a0a48a28",
   "metadata": {},
   "source": [
    "## Configuration Parameters\n",
    "Define constants and parameters for MCTS and game state distribution."
   ]
  },
  {
   "cell_type": "code",
   "execution_count": 8,
   "id": "9d45fb59",
   "metadata": {},
   "outputs": [],
   "source": [
    "C0 = math.sqrt(2)\n",
    "iterations0 = 1\n",
    "resetTree0 = True\n",
    "drawValue0 = 0\n",
    "\n",
    "ROWS = 6\n",
    "COLS = 7\n",
    "\n",
    "# Distribuição sugerida\n",
    "GAMESTATES = {\n",
    "    \"early\": (4, 14),   # evitamos jogos com menos de 4 peças\n",
    "    \"mid\": (15, 28),\n",
    "    \"late\": (29, 41)   # até 41 para garantir que não é empate (42)\n",
    "}\n",
    "\n",
    "# Cada membro do grupo faz 3333\n",
    "ITERATIONS_PER_GAMESTATE = 3333"
   ]
  },
  {
   "cell_type": "markdown",
   "id": "45b00c12",
   "metadata": {},
   "source": [
    "## Generate Dataset for Early Game States\n",
    "This section generates datasets for early game states and saves them to Excel."
   ]
  },
  {
   "cell_type": "code",
   "execution_count": 9,
   "id": "3b8e54e5",
   "metadata": {},
   "outputs": [],
   "source": [
    "def generate_save_early():\n",
    "    datasets = generate_dataset(createFor=[\"early\"])\n",
    "    save_to_excel(datasets)"
   ]
  },
  {
   "cell_type": "code",
   "execution_count": 10,
   "id": "a515f92e",
   "metadata": {},
   "outputs": [
    {
     "name": "stdout",
     "output_type": "stream",
     "text": [
      "/###-------------------------------------------------------------------------------------------------/ 2.2%"
     ]
    },
    {
     "ename": "KeyboardInterrupt",
     "evalue": "",
     "output_type": "error",
     "traceback": [
      "\u001b[1;31m---------------------------------------------------------------------------\u001b[0m",
      "\u001b[1;31mKeyboardInterrupt\u001b[0m                         Traceback (most recent call last)",
      "Cell \u001b[1;32mIn[10], line 1\u001b[0m\n\u001b[1;32m----> 1\u001b[0m \u001b[43mgenerate_save_early\u001b[49m\u001b[43m(\u001b[49m\u001b[43m)\u001b[49m\n",
      "Cell \u001b[1;32mIn[9], line 2\u001b[0m, in \u001b[0;36mgenerate_save_early\u001b[1;34m()\u001b[0m\n\u001b[0;32m      1\u001b[0m \u001b[38;5;28;01mdef\u001b[39;00m \u001b[38;5;21mgenerate_save_early\u001b[39m():\n\u001b[1;32m----> 2\u001b[0m     datasets \u001b[38;5;241m=\u001b[39m \u001b[43mgenerate_dataset\u001b[49m\u001b[43m(\u001b[49m\u001b[43mcreateFor\u001b[49m\u001b[38;5;241;43m=\u001b[39;49m\u001b[43m[\u001b[49m\u001b[38;5;124;43m\"\u001b[39;49m\u001b[38;5;124;43mearly\u001b[39;49m\u001b[38;5;124;43m\"\u001b[39;49m\u001b[43m]\u001b[49m\u001b[43m)\u001b[49m\n\u001b[0;32m      3\u001b[0m     save_to_excel(datasets)\n",
      "Cell \u001b[1;32mIn[6], line 51\u001b[0m, in \u001b[0;36mgenerate_dataset\u001b[1;34m(createFor)\u001b[0m\n\u001b[0;32m     49\u001b[0m \u001b[38;5;66;03m# MCTS para determinar resultado provável\u001b[39;00m\n\u001b[0;32m     50\u001b[0m mcts\u001b[38;5;241m.\u001b[39mrun_mcts(iterations0, connect4)\n\u001b[1;32m---> 51\u001b[0m bestMove \u001b[38;5;241m=\u001b[39m \u001b[38;5;28mstr\u001b[39m(\u001b[43mmcts\u001b[49m\u001b[38;5;241;43m.\u001b[39;49m\u001b[43mchoose_best_move\u001b[49m\u001b[43m(\u001b[49m\u001b[43m)\u001b[49m)\n\u001b[0;32m     53\u001b[0m flat_board \u001b[38;5;241m=\u001b[39m flatten_board(board)\n\u001b[0;32m     54\u001b[0m flat_board\u001b[38;5;241m.\u001b[39mappend(bestMove)\n",
      "File \u001b[1;32mc:\\Users\\arcan\\OneDrive\\Ambiente de Trabalho\\My apps\\python\\connect4Project\\other_version\\src(in construction)\\mcts_ucb.py:152\u001b[0m, in \u001b[0;36mMctsAlgo.choose_best_move\u001b[1;34m(self, showStats)\u001b[0m\n\u001b[0;32m    150\u001b[0m \u001b[38;5;28mself\u001b[39m\u001b[38;5;241m.\u001b[39mactualState\u001b[38;5;241m.\u001b[39mparent \u001b[38;5;241m=\u001b[39m \u001b[38;5;28;01mNone\u001b[39;00m    \u001b[38;5;66;03m# Clears the parent Node from memory\u001b[39;00m\n\u001b[0;32m    151\u001b[0m \u001b[38;5;28mself\u001b[39m\u001b[38;5;241m.\u001b[39mcurrentState\u001b[38;5;241m.\u001b[39mparent \u001b[38;5;241m=\u001b[39m \u001b[38;5;28;01mNone\u001b[39;00m   \u001b[38;5;66;03m# Definetely clears the parent Node from memory  \u001b[39;00m\n\u001b[1;32m--> 152\u001b[0m \u001b[43mgc\u001b[49m\u001b[38;5;241;43m.\u001b[39;49m\u001b[43mcollect\u001b[49m\u001b[43m(\u001b[49m\u001b[43m)\u001b[49m\n\u001b[0;32m    153\u001b[0m \u001b[38;5;28;01mreturn\u001b[39;00m bestMove\n",
      "\u001b[1;31mKeyboardInterrupt\u001b[0m: "
     ]
    }
   ],
   "source": [
    "generate_save_early()"
   ]
  },
  {
   "cell_type": "markdown",
   "id": "5f5d7eb9",
   "metadata": {},
   "source": [
    "## Generate Dataset for Mid Game States\n",
    "This section generates datasets for mid game states and saves them to Excel."
   ]
  },
  {
   "cell_type": "code",
   "execution_count": 11,
   "id": "8ad99db5",
   "metadata": {},
   "outputs": [],
   "source": [
    "def generate_save_mid():\n",
    "    datasets = generate_dataset(createFor=[\"mid\"])\n",
    "    save_to_excel(datasets)"
   ]
  },
  {
   "cell_type": "code",
   "execution_count": 12,
   "id": "f1875015",
   "metadata": {},
   "outputs": [
    {
     "name": "stdout",
     "output_type": "stream",
     "text": [
      "/#---------------------------------------------------------------------------------------------------/ 0.8%"
     ]
    },
    {
     "ename": "KeyboardInterrupt",
     "evalue": "",
     "output_type": "error",
     "traceback": [
      "\u001b[1;31m---------------------------------------------------------------------------\u001b[0m",
      "\u001b[1;31mKeyboardInterrupt\u001b[0m                         Traceback (most recent call last)",
      "Cell \u001b[1;32mIn[12], line 1\u001b[0m\n\u001b[1;32m----> 1\u001b[0m \u001b[43mgenerate_save_mid\u001b[49m\u001b[43m(\u001b[49m\u001b[43m)\u001b[49m\n",
      "Cell \u001b[1;32mIn[11], line 2\u001b[0m, in \u001b[0;36mgenerate_save_mid\u001b[1;34m()\u001b[0m\n\u001b[0;32m      1\u001b[0m \u001b[38;5;28;01mdef\u001b[39;00m \u001b[38;5;21mgenerate_save_mid\u001b[39m():\n\u001b[1;32m----> 2\u001b[0m     datasets \u001b[38;5;241m=\u001b[39m \u001b[43mgenerate_dataset\u001b[49m\u001b[43m(\u001b[49m\u001b[43mcreateFor\u001b[49m\u001b[38;5;241;43m=\u001b[39;49m\u001b[43m[\u001b[49m\u001b[38;5;124;43m\"\u001b[39;49m\u001b[38;5;124;43mmid\u001b[39;49m\u001b[38;5;124;43m\"\u001b[39;49m\u001b[43m]\u001b[49m\u001b[43m)\u001b[49m\n\u001b[0;32m      3\u001b[0m     save_to_excel(datasets)\n",
      "Cell \u001b[1;32mIn[6], line 51\u001b[0m, in \u001b[0;36mgenerate_dataset\u001b[1;34m(createFor)\u001b[0m\n\u001b[0;32m     49\u001b[0m \u001b[38;5;66;03m# MCTS para determinar resultado provável\u001b[39;00m\n\u001b[0;32m     50\u001b[0m mcts\u001b[38;5;241m.\u001b[39mrun_mcts(iterations0, connect4)\n\u001b[1;32m---> 51\u001b[0m bestMove \u001b[38;5;241m=\u001b[39m \u001b[38;5;28mstr\u001b[39m(\u001b[43mmcts\u001b[49m\u001b[38;5;241;43m.\u001b[39;49m\u001b[43mchoose_best_move\u001b[49m\u001b[43m(\u001b[49m\u001b[43m)\u001b[49m)\n\u001b[0;32m     53\u001b[0m flat_board \u001b[38;5;241m=\u001b[39m flatten_board(board)\n\u001b[0;32m     54\u001b[0m flat_board\u001b[38;5;241m.\u001b[39mappend(bestMove)\n",
      "File \u001b[1;32mc:\\Users\\arcan\\OneDrive\\Ambiente de Trabalho\\My apps\\python\\connect4Project\\other_version\\src(in construction)\\mcts_ucb.py:152\u001b[0m, in \u001b[0;36mMctsAlgo.choose_best_move\u001b[1;34m(self, showStats)\u001b[0m\n\u001b[0;32m    150\u001b[0m \u001b[38;5;28mself\u001b[39m\u001b[38;5;241m.\u001b[39mactualState\u001b[38;5;241m.\u001b[39mparent \u001b[38;5;241m=\u001b[39m \u001b[38;5;28;01mNone\u001b[39;00m    \u001b[38;5;66;03m# Clears the parent Node from memory\u001b[39;00m\n\u001b[0;32m    151\u001b[0m \u001b[38;5;28mself\u001b[39m\u001b[38;5;241m.\u001b[39mcurrentState\u001b[38;5;241m.\u001b[39mparent \u001b[38;5;241m=\u001b[39m \u001b[38;5;28;01mNone\u001b[39;00m   \u001b[38;5;66;03m# Definetely clears the parent Node from memory  \u001b[39;00m\n\u001b[1;32m--> 152\u001b[0m \u001b[43mgc\u001b[49m\u001b[38;5;241;43m.\u001b[39;49m\u001b[43mcollect\u001b[49m\u001b[43m(\u001b[49m\u001b[43m)\u001b[49m\n\u001b[0;32m    153\u001b[0m \u001b[38;5;28;01mreturn\u001b[39;00m bestMove\n",
      "\u001b[1;31mKeyboardInterrupt\u001b[0m: "
     ]
    }
   ],
   "source": [
    "generate_save_mid()"
   ]
  },
  {
   "cell_type": "markdown",
   "id": "eb2aa9fa",
   "metadata": {},
   "source": [
    "## Generate Dataset for Late Game States\n",
    "This section generates datasets for late game states and saves them to Excel."
   ]
  },
  {
   "cell_type": "code",
   "execution_count": 13,
   "id": "7e796ddf",
   "metadata": {},
   "outputs": [],
   "source": [
    "def generate_save_late():\n",
    "    datasets = generate_dataset(createFor=[\"late\"])\n",
    "    save_to_excel(datasets)"
   ]
  },
  {
   "cell_type": "code",
   "execution_count": 14,
   "id": "28c6cdc0",
   "metadata": {},
   "outputs": [
    {
     "name": "stdout",
     "output_type": "stream",
     "text": [
      "/####################################################################################################/ 100.0%Dataset saved as connect4_late.xlsx\n"
     ]
    }
   ],
   "source": [
    "generate_save_late()"
   ]
  },
  {
   "cell_type": "markdown",
   "id": "31ed1a2d",
   "metadata": {},
   "source": [
    "## Check for Duplicate Rows in the Dataset\n",
    "This cell loads the generated dataset from an Excel file, checks for duplicate rows (excluding the 'result' column), and displays the count and a sample of duplicate rows."
   ]
  },
  {
   "cell_type": "code",
   "execution_count": null,
   "id": "67afcdc1",
   "metadata": {},
   "outputs": [],
   "source": [
    "# Load the Excel file\n",
    "file_path_early = r\"other_version\\datasets\\connect4_early.xlsx\"\n",
    "file_path_mid = r\"other_version\\datasets\\connect4_mid.xlsx\"\n",
    "file_path_late = r\"other_version\\datasets\\connect4_late.xlsx\"\n",
    "\n",
    "for file_path in [file_path_early,file_path_mid,file_path_late]:\n",
    "    df = pd.read_excel(file_path)\n",
    "\n",
    "    # Check for duplicates excluding the 'result' column\n",
    "    duplicate_rows = df[df.duplicated(subset=df.columns[:-1], keep=False)]\n",
    "\n",
    "    # Count and display the number of duplicate rows and show a few examples\n",
    "    duplicate_count = len(duplicate_rows)\n",
    "    duplicate_rows_sample = duplicate_rows.head()\n",
    "\n",
    "    duplicate_count, duplicate_rows_sample"
   ]
  }
 ],
 "metadata": {
  "kernelspec": {
   "display_name": "Python 3",
   "language": "python",
   "name": "python3"
  },
  "language_info": {
   "codemirror_mode": {
    "name": "ipython",
    "version": 3
   },
   "file_extension": ".py",
   "mimetype": "text/x-python",
   "name": "python",
   "nbconvert_exporter": "python",
   "pygments_lexer": "ipython3",
   "version": "3.12.0"
  }
 },
 "nbformat": 4,
 "nbformat_minor": 5
}
